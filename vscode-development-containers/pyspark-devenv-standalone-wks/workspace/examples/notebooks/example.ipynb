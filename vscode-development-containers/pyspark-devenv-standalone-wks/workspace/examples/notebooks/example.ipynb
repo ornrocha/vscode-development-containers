{
 "cells": [
  {
   "cell_type": "code",
   "execution_count": 1,
   "id": "9dcbcf80",
   "metadata": {},
   "outputs": [],
   "source": [
    "from pyspark.sql import SparkSession"
   ]
  },
  {
   "cell_type": "code",
   "execution_count": 2,
   "id": "05f7aef9",
   "metadata": {},
   "outputs": [],
   "source": [
    "spark = SparkSession.builder.getOrCreate()\n",
    "\n",
    "df = (\n",
    "    spark.read.option(\"header\", True).option(\"delimiter\", \";\").csv(\"/mnt/data/examples/example.csv\")\n",
    ")"
   ]
  },
  {
   "cell_type": "code",
   "execution_count": 3,
   "id": "40a2f492",
   "metadata": {},
   "outputs": [
    {
     "name": "stdout",
     "output_type": "stream",
     "text": [
      "+------+--------------------+\n",
      "|  CITY|             COUNTRY|\n",
      "+------+--------------------+\n",
      "| Porto|            Portugal|\n",
      "|Lisbon|            Portugal|\n",
      "|Madrid|               Spain|\n",
      "| Paris|              France|\n",
      "|London|      United Kingdom|\n",
      "|Seatle|United States of ...|\n",
      "+------+--------------------+\n",
      "\n"
     ]
    }
   ],
   "source": [
    "df.show()"
   ]
  }
 ],
 "metadata": {
  "kernelspec": {
   "display_name": "devenv",
   "language": "python",
   "name": "devenv"
  },
  "language_info": {
   "codemirror_mode": {
    "name": "ipython",
    "version": 3
   },
   "file_extension": ".py",
   "mimetype": "text/x-python",
   "name": "python",
   "nbconvert_exporter": "python",
   "pygments_lexer": "ipython3",
   "version": "3.10.11"
  }
 },
 "nbformat": 4,
 "nbformat_minor": 5
}
